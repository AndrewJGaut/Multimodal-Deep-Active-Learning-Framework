{
 "cells": [
  {
   "cell_type": "code",
   "execution_count": 1,
   "metadata": {},
   "outputs": [
    {
     "name": "stdout",
     "output_type": "stream",
     "text": [
      "PyTorch Version:  1.10.0\n",
      "Torchvision Version:  0.11.1\n"
     ]
    }
   ],
   "source": [
    "# Adapted from https://pytorch.org/tutorials/beginner/finetuning_torchvision_models_tutorial.html\n",
    "# for kaggle satellite image classification dataset https://www.kaggle.com/mahmoudreda55/satellite-image-classification\n",
    "# and then basic active learning was applied.\n",
    "\n",
    "from __future__ import print_function\n",
    "from __future__ import division\n",
    "import torch\n",
    "import torch.nn as nn\n",
    "import torch.optim as optim\n",
    "import numpy as np\n",
    "import torchvision\n",
    "from torchvision import datasets, models, transforms\n",
    "from torch.utils.data import TensorDataset, DataLoader\n",
    "import matplotlib.pyplot as plt\n",
    "from pytorch_finetuning_utils import train_model, train_model_given_numpy_arrays, initialize_model\n",
    "print(\"PyTorch Version: \",torch.__version__)\n",
    "print(\"Torchvision Version: \",torchvision.__version__)\n",
    "import sys\n",
    "sys.path.append(\"..\")\n",
    "from test_framework.model_interface import ModelInterface\n",
    "from test_framework.tester import Tester\n",
    "from utils.data_utils import get_kaggle_satellite_image_classification_dataset_as_numpy_arrays\n",
    "import categorical_query_functions"
   ]
  },
  {
   "cell_type": "markdown",
   "metadata": {},
   "source": [
    "# parameters"
   ]
  },
  {
   "cell_type": "code",
   "execution_count": 2,
   "metadata": {},
   "outputs": [],
   "source": [
    "# Top level data directory. Here we assume the format of the directory conforms\n",
    "#   to the ImageFolder structure\n",
    "data_dir = \"../data/kaggle_satellite_image_classification\"\n",
    "\n",
    "# Models to choose from [resnet, alexnet, vgg, squeezenet, densenet]\n",
    "model_name = \"squeezenet\"\n",
    "\n",
    "# Number of classes in the dataset\n",
    "num_classes = 4\n",
    "\n",
    "# Batch size for training (change depending on how much memory you have)\n",
    "batch_size = 8\n",
    "\n",
    "# Number of epochs to train for\n",
    "num_epochs = 3#15\n",
    "\n",
    "# Flag for feature extracting. When False, we finetune the whole model,\n",
    "#   when True we only update the reshaped layer params\n",
    "feature_extract = True\n",
    "\n",
    "# Use ~1/10 of the dataset\n",
    "small_dataset = True\n",
    "\n",
    "# parameters specific to active learning\n",
    "active_learning_batch_size = 16\n",
    "initial_train_data_fraction = 0.05\n",
    "# QUERY_FUNCTION = categorical_query_functions.MIN_MAX\n",
    "QUERY_FUNCTION = categorical_query_functions.MIN_MARGIN\n",
    "# QUERY_FUNCTION = categorical_query_functions.MAX_ENTROPY\n",
    "\n",
    "# Flag for whether to print train loss and accuracy after each epoch.\n",
    "train_verbose = True"
   ]
  },
  {
   "cell_type": "markdown",
   "metadata": {},
   "source": [
    "# Load data"
   ]
  },
  {
   "cell_type": "code",
   "execution_count": 3,
   "metadata": {},
   "outputs": [],
   "source": [
    "x_data,y_data = get_kaggle_satellite_image_classification_dataset_as_numpy_arrays()\n",
    "order = np.random.permutation(len(x_data))\n",
    "x_data, y_data = x_data[order], y_data[order]"
   ]
  },
  {
   "cell_type": "markdown",
   "metadata": {},
   "source": [
    "# Initialize model"
   ]
  },
  {
   "cell_type": "code",
   "execution_count": 4,
   "metadata": {},
   "outputs": [
    {
     "name": "stdout",
     "output_type": "stream",
     "text": [
      "Sequential(\n",
      "  (0): Dropout(p=0.5, inplace=False)\n",
      "  (1): Conv2d(512, 4, kernel_size=(1, 1), stride=(1, 1))\n",
      "  (2): ReLU(inplace=True)\n",
      "  (3): AdaptiveAvgPool2d(output_size=(1, 1))\n",
      ")\n"
     ]
    }
   ],
   "source": [
    "# Initialize the model for this run\n",
    "model_ft, input_size = initialize_model(model_name, num_classes, feature_extract, use_pretrained=True)\n",
    "\n",
    "# Print the model we just instantiated\n",
    "print(model_ft.classifier)"
   ]
  },
  {
   "cell_type": "code",
   "execution_count": 5,
   "metadata": {},
   "outputs": [],
   "source": [
    "device = torch.device(\"cuda:0\" if torch.cuda.is_available() else \"cpu\")"
   ]
  },
  {
   "cell_type": "code",
   "execution_count": 6,
   "metadata": {},
   "outputs": [],
   "source": [
    "class ActiveLearningModel(ModelInterface):\n",
    "    def __init__(self,model,name=\"no name provided\",details=\"no details provided\"):\n",
    "        model.to(device)\n",
    "        self.model = model\n",
    "        self._name = name\n",
    "        self._details = details\n",
    "        # Gather the parameters to be optimized/updated in this run. If we are\n",
    "        #  finetuning we will be updating all parameters. However, if we are\n",
    "        #  doing feature extract method, we will only update the parameters\n",
    "        #  that we have just initialized, i.e. the parameters with requires_grad\n",
    "        #  is True.\n",
    "        params_to_update = model.parameters()\n",
    "        verbose = False\n",
    "        if verbose:\n",
    "            print(\"Params to learn:\")\n",
    "        if feature_extract:\n",
    "            params_to_update = []\n",
    "            for name,param in model.named_parameters():\n",
    "                if param.requires_grad == True:\n",
    "                    params_to_update.append(param)\n",
    "                    if verbose:\n",
    "                        print(\"\\t\",name)\n",
    "        elif verbose:\n",
    "            for name,param in model.named_parameters():\n",
    "                if param.requires_grad == True:\n",
    "                    print(\"\\t\",name)\n",
    "\n",
    "        # Observe that all parameters are being optimized\n",
    "        optimizer_ft = optim.SGD(params_to_update, lr=0.001, momentum=0.9)\n",
    "        self._optimizer = optimizer_ft\n",
    "        \n",
    "        # store criterion\n",
    "        self._criterion = nn.CrossEntropyLoss()\n",
    "\n",
    "    def name(self) -> str:\n",
    "        return self._name\n",
    "    def details(self) -> str:\n",
    "        return self._details\n",
    "    def train(self, train_x:np.ndarray, train_y:np.ndarray) -> None:\n",
    "        self.model = train_model_given_numpy_arrays(self.model, train_x, train_y, self._criterion, self._optimizer, num_epochs, batch_size, verbose=train_verbose)\n",
    "    def predict(self, test_x:np.ndarray):\n",
    "        self.model.eval()\n",
    "        x_tensor = torch.tensor(test_x)\n",
    "        dataset = TensorDataset(x_tensor)\n",
    "        dataloader = DataLoader(dataset,batch_size=batch_size,num_workers=0,shuffle=True)\n",
    "        preds_list = []\n",
    "        for (inputs,) in dataloader:\n",
    "            inputs = inputs.to(device)\n",
    "            preds_list.append(self.model(inputs).cpu().detach().numpy())\n",
    "        return np.vstack(preds_list)\n",
    "    def query(self, unlabeled_data:np.ndarray, labeling_batch_size:int) -> np.ndarray:\n",
    "        softmax = lambda x: np.exp(x)/np.sum(np.exp(x),axis=-1,keepdims=True)\n",
    "        softmax_outputs = softmax(self.predict(unlabeled_data))\n",
    "        indices = QUERY_FUNCTION(softmax_outputs,labeling_batch_size)\n",
    "        return indices"
   ]
  },
  {
   "cell_type": "code",
   "execution_count": 7,
   "metadata": {},
   "outputs": [],
   "source": [
    "y_data_onehot = np.zeros((y_data.size, y_data.max()+1))\n",
    "y_data_onehot[np.arange(y_data.size),y_data] = 1"
   ]
  },
  {
   "cell_type": "code",
   "execution_count": 8,
   "metadata": {},
   "outputs": [],
   "source": [
    "if small_dataset:\n",
    "    tester = Tester(x_data[:600],y_data_onehot[:600])\n",
    "else:\n",
    "    tester = Tester(x_data,y_data_onehot)\n",
    "tester.TRAINING_EPOCHS = num_epochs\n",
    "tester.ACTIVE_LEARNING_BATCH_SIZE = active_learning_batch_size\n",
    "tester.INITIAL_TRAIN_DATA_FRACTION = initial_train_data_fraction"
   ]
  },
  {
   "cell_type": "code",
   "execution_count": 9,
   "metadata": {},
   "outputs": [],
   "source": [
    "active_learning_model = ActiveLearningModel(model_ft,model_name,str(model_ft.classifier))"
   ]
  },
  {
   "cell_type": "code",
   "execution_count": 10,
   "metadata": {},
   "outputs": [
    {
     "name": "stderr",
     "output_type": "stream",
     "text": [
      "Test 0, Training Epoch 0:   0%|          | 0/10 [00:00<?, ?it/s]"
     ]
    },
    {
     "name": "stdout",
     "output_type": "stream",
     "text": [
      "Epoch 0/2 - Train Loss: 1.4387 Acc: 0.1852\n",
      "Epoch 1/2 - Train Loss: 1.1454 Acc: 0.4444\n"
     ]
    },
    {
     "name": "stderr",
     "output_type": "stream",
     "text": [
      "Test 0, Training Epoch 2:   0%|          | 0/10 [00:03<?, ?it/s]"
     ]
    },
    {
     "name": "stdout",
     "output_type": "stream",
     "text": [
      "Epoch 2/2 - Train Loss: 0.9849 Acc: 0.6296\n",
      "\n",
      "Training complete in 0m 3s\n",
      "Epoch 0/2 - Train Loss: 0.8459 Acc: 0.7037\n",
      "Epoch 1/2 - Train Loss: 0.7708 Acc: 0.7407\n",
      "Epoch 2/2 - Train Loss: 0.6250 Acc: 0.7778\n",
      "\n",
      "Training complete in 0m 0s\n",
      "Epoch 0/2 - Train Loss: 0.4998 Acc: 0.8148\n",
      "Epoch 1/2 - Train Loss: 0.4537 Acc: 0.7778\n",
      "Epoch 2/2 - Train Loss: 0.4134 Acc: 0.7778\n",
      "\n",
      "Training complete in 0m 0s\n"
     ]
    },
    {
     "name": "stderr",
     "output_type": "stream",
     "text": [
      "Test 0, Training Epoch 1:  10%|█         | 1/10 [00:03<00:33,  3.73s/it]"
     ]
    },
    {
     "name": "stdout",
     "output_type": "stream",
     "text": [
      "Epoch 0/2 - Train Loss: 0.4600 Acc: 0.8372\n",
      "Epoch 1/2 - Train Loss: 0.4136 Acc: 0.7907\n",
      "Epoch 2/2 - Train Loss: 0.3731 Acc: 0.8837\n",
      "\n",
      "Training complete in 0m 0s\n",
      "Epoch 0/2 - Train Loss: 0.3300 Acc: 0.9070\n",
      "Epoch 1/2 - Train Loss: 0.3344 Acc: 0.8837\n"
     ]
    },
    {
     "name": "stderr",
     "output_type": "stream",
     "text": [
      "Test 0, Training Epoch 2:  10%|█         | 1/10 [00:03<00:33,  3.73s/it]"
     ]
    },
    {
     "name": "stdout",
     "output_type": "stream",
     "text": [
      "Epoch 2/2 - Train Loss: 0.3331 Acc: 0.8605\n",
      "\n",
      "Training complete in 0m 0s\n",
      "Epoch 0/2 - Train Loss: 0.3337 Acc: 0.8837\n",
      "Epoch 1/2 - Train Loss: 0.3257 Acc: 0.8372\n",
      "Epoch 2/2 - Train Loss: 0.2738 Acc: 0.8837\n",
      "\n",
      "Training complete in 0m 0s\n"
     ]
    },
    {
     "name": "stderr",
     "output_type": "stream",
     "text": [
      "Test 0, Training Epoch 1:  20%|██        | 2/10 [00:04<00:17,  2.15s/it]"
     ]
    },
    {
     "name": "stdout",
     "output_type": "stream",
     "text": [
      "Epoch 0/2 - Train Loss: 0.3098 Acc: 0.8644\n",
      "Epoch 1/2 - Train Loss: 0.2684 Acc: 0.9661\n",
      "Epoch 2/2 - Train Loss: 0.2795 Acc: 0.9322\n",
      "\n",
      "Training complete in 0m 0s\n",
      "Epoch 0/2 - Train Loss: 0.2450 Acc: 0.9661\n"
     ]
    },
    {
     "name": "stderr",
     "output_type": "stream",
     "text": [
      "Test 0, Training Epoch 2:  20%|██        | 2/10 [00:05<00:17,  2.15s/it]"
     ]
    },
    {
     "name": "stdout",
     "output_type": "stream",
     "text": [
      "Epoch 1/2 - Train Loss: 0.2182 Acc: 0.9492\n",
      "Epoch 2/2 - Train Loss: 0.2221 Acc: 0.9492\n",
      "\n",
      "Training complete in 0m 0s\n",
      "Epoch 0/2 - Train Loss: 0.2292 Acc: 0.9661\n",
      "Epoch 1/2 - Train Loss: 0.2313 Acc: 0.9492\n",
      "Epoch 2/2 - Train Loss: 0.2399 Acc: 0.8983\n",
      "\n",
      "Training complete in 0m 0s\n"
     ]
    },
    {
     "name": "stderr",
     "output_type": "stream",
     "text": [
      "Test 0, Training Epoch 1:  30%|███       | 3/10 [00:06<00:11,  1.70s/it]"
     ]
    },
    {
     "name": "stdout",
     "output_type": "stream",
     "text": [
      "Epoch 0/2 - Train Loss: 0.2191 Acc: 0.9333\n",
      "Epoch 1/2 - Train Loss: 0.2564 Acc: 0.9067\n",
      "Epoch 2/2 - Train Loss: 0.2162 Acc: 0.9200\n",
      "\n",
      "Training complete in 0m 0s\n"
     ]
    },
    {
     "name": "stderr",
     "output_type": "stream",
     "text": [
      "Test 0, Training Epoch 2:  30%|███       | 3/10 [00:06<00:11,  1.70s/it]"
     ]
    },
    {
     "name": "stdout",
     "output_type": "stream",
     "text": [
      "Epoch 0/2 - Train Loss: 0.1903 Acc: 0.9333\n",
      "Epoch 1/2 - Train Loss: 0.1661 Acc: 1.0000\n",
      "Epoch 2/2 - Train Loss: 0.2111 Acc: 0.9200\n",
      "\n",
      "Training complete in 0m 0s\n",
      "Epoch 0/2 - Train Loss: 0.1815 Acc: 0.9733\n",
      "Epoch 1/2 - Train Loss: 0.1993 Acc: 0.9467\n",
      "Epoch 2/2 - Train Loss: 0.1624 Acc: 0.9733\n",
      "\n",
      "Training complete in 0m 0s\n"
     ]
    },
    {
     "name": "stderr",
     "output_type": "stream",
     "text": [
      "Test 0, Training Epoch 1:  40%|████      | 4/10 [00:07<00:09,  1.54s/it]"
     ]
    },
    {
     "name": "stdout",
     "output_type": "stream",
     "text": [
      "Epoch 0/2 - Train Loss: 0.1434 Acc: 0.9890\n",
      "Epoch 1/2 - Train Loss: 0.1470 Acc: 0.9780\n",
      "Epoch 2/2 - Train Loss: 0.1499 Acc: 0.9560\n",
      "\n",
      "Training complete in 0m 0s\n"
     ]
    },
    {
     "name": "stderr",
     "output_type": "stream",
     "text": [
      "Test 0, Training Epoch 2:  40%|████      | 4/10 [00:07<00:09,  1.54s/it]"
     ]
    },
    {
     "name": "stdout",
     "output_type": "stream",
     "text": [
      "Epoch 0/2 - Train Loss: 0.1827 Acc: 0.9451\n",
      "Epoch 1/2 - Train Loss: 0.1540 Acc: 0.9670\n",
      "Epoch 2/2 - Train Loss: 0.1335 Acc: 0.9890\n",
      "\n",
      "Training complete in 0m 0s\n",
      "Epoch 0/2 - Train Loss: 0.1624 Acc: 0.9451\n",
      "Epoch 1/2 - Train Loss: 0.1444 Acc: 0.9780\n",
      "Epoch 2/2 - Train Loss: 0.1033 Acc: 0.9780\n",
      "\n",
      "Training complete in 0m 0s\n"
     ]
    },
    {
     "name": "stderr",
     "output_type": "stream",
     "text": [
      "Test 0, Training Epoch 1:  50%|█████     | 5/10 [00:08<00:07,  1.50s/it]"
     ]
    },
    {
     "name": "stdout",
     "output_type": "stream",
     "text": [
      "Epoch 0/2 - Train Loss: 0.1393 Acc: 0.9813\n",
      "Epoch 1/2 - Train Loss: 0.1217 Acc: 0.9813\n",
      "Epoch 2/2 - Train Loss: 0.1210 Acc: 0.9720\n",
      "\n",
      "Training complete in 0m 0s\n"
     ]
    },
    {
     "name": "stderr",
     "output_type": "stream",
     "text": [
      "Test 0, Training Epoch 2:  50%|█████     | 5/10 [00:09<00:07,  1.50s/it]"
     ]
    },
    {
     "name": "stdout",
     "output_type": "stream",
     "text": [
      "Epoch 0/2 - Train Loss: 0.1252 Acc: 0.9813\n",
      "Epoch 1/2 - Train Loss: 0.1538 Acc: 0.9626\n",
      "Epoch 2/2 - Train Loss: 0.1225 Acc: 0.9626\n",
      "\n",
      "Training complete in 0m 0s\n",
      "Epoch 0/2 - Train Loss: 0.1292 Acc: 0.9533\n",
      "Epoch 1/2 - Train Loss: 0.1361 Acc: 0.9439\n",
      "Epoch 2/2 - Train Loss: 0.1072 Acc: 0.9813\n",
      "\n",
      "Training complete in 0m 0s\n"
     ]
    },
    {
     "name": "stderr",
     "output_type": "stream",
     "text": [
      "Test 0, Training Epoch 0:  60%|██████    | 6/10 [00:10<00:06,  1.52s/it]"
     ]
    },
    {
     "name": "stdout",
     "output_type": "stream",
     "text": [
      "Epoch 0/2 - Train Loss: 0.1094 Acc: 0.9919\n",
      "Epoch 1/2 - Train Loss: 0.0956 Acc: 0.9919\n"
     ]
    },
    {
     "name": "stderr",
     "output_type": "stream",
     "text": [
      "Test 0, Training Epoch 1:  60%|██████    | 6/10 [00:10<00:06,  1.52s/it]"
     ]
    },
    {
     "name": "stdout",
     "output_type": "stream",
     "text": [
      "Epoch 2/2 - Train Loss: 0.1117 Acc: 0.9593\n",
      "\n",
      "Training complete in 0m 0s\n",
      "Epoch 0/2 - Train Loss: 0.0995 Acc: 0.9837\n"
     ]
    },
    {
     "name": "stderr",
     "output_type": "stream",
     "text": [
      "Test 0, Training Epoch 2:  60%|██████    | 6/10 [00:10<00:06,  1.52s/it]"
     ]
    },
    {
     "name": "stdout",
     "output_type": "stream",
     "text": [
      "Epoch 1/2 - Train Loss: 0.1216 Acc: 0.9756\n",
      "Epoch 2/2 - Train Loss: 0.1134 Acc: 0.9593\n",
      "\n",
      "Training complete in 0m 0s\n",
      "Epoch 0/2 - Train Loss: 0.1125 Acc: 0.9593\n",
      "Epoch 1/2 - Train Loss: 0.1424 Acc: 0.9431\n",
      "Epoch 2/2 - Train Loss: 0.0819 Acc: 0.9919\n",
      "\n",
      "Training complete in 0m 0s\n"
     ]
    },
    {
     "name": "stderr",
     "output_type": "stream",
     "text": [
      "Test 0, Training Epoch 0:  70%|███████   | 7/10 [00:11<00:04,  1.57s/it]"
     ]
    },
    {
     "name": "stdout",
     "output_type": "stream",
     "text": [
      "Epoch 0/2 - Train Loss: 0.0799 Acc: 0.9784\n",
      "Epoch 1/2 - Train Loss: 0.0893 Acc: 0.9784\n"
     ]
    },
    {
     "name": "stderr",
     "output_type": "stream",
     "text": [
      "Test 0, Training Epoch 1:  70%|███████   | 7/10 [00:12<00:04,  1.57s/it]"
     ]
    },
    {
     "name": "stdout",
     "output_type": "stream",
     "text": [
      "Epoch 2/2 - Train Loss: 0.0858 Acc: 0.9784\n",
      "\n",
      "Training complete in 0m 0s\n",
      "Epoch 0/2 - Train Loss: 0.1023 Acc: 0.9784\n"
     ]
    },
    {
     "name": "stderr",
     "output_type": "stream",
     "text": [
      "Test 0, Training Epoch 2:  70%|███████   | 7/10 [00:12<00:04,  1.57s/it]"
     ]
    },
    {
     "name": "stdout",
     "output_type": "stream",
     "text": [
      "Epoch 1/2 - Train Loss: 0.0970 Acc: 0.9784\n",
      "Epoch 2/2 - Train Loss: 0.1017 Acc: 0.9712\n",
      "\n",
      "Training complete in 0m 0s\n",
      "Epoch 0/2 - Train Loss: 0.1186 Acc: 0.9712\n",
      "Epoch 1/2 - Train Loss: 0.0950 Acc: 0.9712\n",
      "Epoch 2/2 - Train Loss: 0.0938 Acc: 0.9784\n",
      "\n",
      "Training complete in 0m 0s\n"
     ]
    },
    {
     "name": "stderr",
     "output_type": "stream",
     "text": [
      "Test 0, Training Epoch 0:  80%|████████  | 8/10 [00:13<00:03,  1.66s/it]"
     ]
    },
    {
     "name": "stdout",
     "output_type": "stream",
     "text": [
      "Epoch 0/2 - Train Loss: 0.1060 Acc: 0.9613\n",
      "Epoch 1/2 - Train Loss: 0.0883 Acc: 0.9871\n"
     ]
    },
    {
     "name": "stderr",
     "output_type": "stream",
     "text": [
      "Test 0, Training Epoch 1:  80%|████████  | 8/10 [00:14<00:03,  1.66s/it]"
     ]
    },
    {
     "name": "stdout",
     "output_type": "stream",
     "text": [
      "Epoch 2/2 - Train Loss: 0.1083 Acc: 0.9548\n",
      "\n",
      "Training complete in 0m 0s\n",
      "Epoch 0/2 - Train Loss: 0.0882 Acc: 0.9806\n"
     ]
    },
    {
     "name": "stderr",
     "output_type": "stream",
     "text": [
      "Test 0, Training Epoch 2:  80%|████████  | 8/10 [00:14<00:03,  1.66s/it]"
     ]
    },
    {
     "name": "stdout",
     "output_type": "stream",
     "text": [
      "Epoch 1/2 - Train Loss: 0.0815 Acc: 0.9742\n",
      "Epoch 2/2 - Train Loss: 0.0999 Acc: 0.9548\n",
      "\n",
      "Training complete in 0m 0s\n",
      "Epoch 0/2 - Train Loss: 0.0759 Acc: 0.9871\n",
      "Epoch 1/2 - Train Loss: 0.0824 Acc: 0.9806\n",
      "Epoch 2/2 - Train Loss: 0.0907 Acc: 0.9806\n",
      "\n",
      "Training complete in 0m 0s\n"
     ]
    },
    {
     "name": "stderr",
     "output_type": "stream",
     "text": [
      "Test 0, Training Epoch 0:  90%|█████████ | 9/10 [00:15<00:01,  1.74s/it]"
     ]
    },
    {
     "name": "stdout",
     "output_type": "stream",
     "text": [
      "Epoch 0/2 - Train Loss: 0.0903 Acc: 0.9766\n",
      "Epoch 1/2 - Train Loss: 0.0762 Acc: 0.9708\n"
     ]
    },
    {
     "name": "stderr",
     "output_type": "stream",
     "text": [
      "Test 0, Training Epoch 1:  90%|█████████ | 9/10 [00:16<00:01,  1.74s/it]"
     ]
    },
    {
     "name": "stdout",
     "output_type": "stream",
     "text": [
      "Epoch 2/2 - Train Loss: 0.0715 Acc: 0.9883\n",
      "\n",
      "Training complete in 0m 0s\n",
      "Epoch 0/2 - Train Loss: 0.0926 Acc: 0.9825\n"
     ]
    },
    {
     "name": "stderr",
     "output_type": "stream",
     "text": [
      "Test 0, Training Epoch 2:  90%|█████████ | 9/10 [00:16<00:01,  1.74s/it]"
     ]
    },
    {
     "name": "stdout",
     "output_type": "stream",
     "text": [
      "Epoch 1/2 - Train Loss: 0.0787 Acc: 0.9825\n",
      "Epoch 2/2 - Train Loss: 0.0937 Acc: 0.9883\n",
      "\n",
      "Training complete in 0m 0s\n",
      "Epoch 0/2 - Train Loss: 0.0834 Acc: 0.9825\n",
      "Epoch 1/2 - Train Loss: 0.0879 Acc: 0.9766\n",
      "Epoch 2/2 - Train Loss: 0.0679 Acc: 0.9825\n",
      "\n",
      "Training complete in 0m 0s\n"
     ]
    },
    {
     "name": "stderr",
     "output_type": "stream",
     "text": [
      "Test 0, Training Epoch 2: 100%|██████████| 10/10 [00:17<00:00,  1.77s/it]\n"
     ]
    }
   ],
   "source": [
    "tester.test_model(active_learning_model)"
   ]
  },
  {
   "cell_type": "code",
   "execution_count": 11,
   "metadata": {},
   "outputs": [
    {
     "data": {
      "image/png": "[encoded data removed]",
      "text/plain": [
       "<Figure size 720x576 with 4 Axes>"
      ]
     },
     "metadata": {
      "needs_background": "light"
     },
     "output_type": "display_data"
    }
   ],
   "source": [
    "tester.plot_results()"
   ]
  },
  {
   "cell_type": "code",
   "execution_count": null,
   "metadata": {},
   "outputs": [],
   "source": []
  }
 ],
 "metadata": {
  "interpreter": {
   "hash": "572989d3e5e970065861bb6fc65bf74562091858dbe06814b9896f38cf561588"
  },
  "kernelspec": {
   "display_name": "Python 3.9.7 64-bit ('cs229proj': conda)",
   "name": "python3"
  },
  "language_info": {
   "codemirror_mode": {
    "name": "ipython",
    "version": 3
   },
   "file_extension": ".py",
   "mimetype": "text/x-python",
   "name": "python",
   "nbconvert_exporter": "python",
   "pygments_lexer": "ipython3",
   "version": "3.9.7"
  },
  "orig_nbformat": 4
 },
 "nbformat": 4,
 "nbformat_minor": 2
}
