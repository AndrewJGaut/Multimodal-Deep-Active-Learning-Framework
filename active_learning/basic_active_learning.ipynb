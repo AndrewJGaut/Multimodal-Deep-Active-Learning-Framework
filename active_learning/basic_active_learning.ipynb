{
 "cells": [
  {
   "cell_type": "code",
   "execution_count": 1,
   "metadata": {},
   "outputs": [
    {
     "name": "stdout",
     "output_type": "stream",
     "text": [
      "PyTorch Version:  1.10.0\n",
      "Torchvision Version:  0.11.1\n"
     ]
    }
   ],
   "source": [
    "# Adapted from https://pytorch.org/tutorials/beginner/finetuning_torchvision_models_tutorial.html\n",
    "# for kaggle satellite image classification dataset https://www.kaggle.com/mahmoudreda55/satellite-image-classification\n",
    "# and then basic active learning was applied.\n",
    "\n",
    "from __future__ import print_function\n",
    "from __future__ import division\n",
    "import torch\n",
    "import torch.nn as nn\n",
    "import torch.optim as optim\n",
    "import numpy as np\n",
    "import torchvision\n",
    "from torchvision import datasets, models, transforms\n",
    "from torch.utils.data import TensorDataset, DataLoader\n",
    "import matplotlib.pyplot as plt\n",
    "from pytorch_finetuning_utils import train_model, train_model_given_numpy_arrays, initialize_model\n",
    "print(\"PyTorch Version: \",torch.__version__)\n",
    "print(\"Torchvision Version: \",torchvision.__version__)\n",
    "import sys\n",
    "sys.path.append(\"..\")\n",
    "from test_framework.model_interface import ModelInterface\n",
    "from test_framework.tester import Tester\n",
    "from utils.data_utils import get_kaggle_satellite_image_classification_dataset_as_numpy_arrays\n",
    "import categorical_query_functions"
   ]
  },
  {
   "cell_type": "markdown",
   "metadata": {},
   "source": [
    "# parameters"
   ]
  },
  {
   "cell_type": "code",
   "execution_count": 2,
   "metadata": {},
   "outputs": [],
   "source": [
    "# Top level data directory. Here we assume the format of the directory conforms\n",
    "#   to the ImageFolder structure\n",
    "data_dir = \"../data/kaggle_satellite_image_classification\"\n",
    "\n",
    "# Models to choose from [resnet, alexnet, vgg, squeezenet, densenet]\n",
    "model_name = \"squeezenet\"\n",
    "\n",
    "# Number of classes in the dataset\n",
    "num_classes = 4\n",
    "\n",
    "# Batch size for training (change depending on how much memory you have)\n",
    "batch_size = 8\n",
    "\n",
    "# Number of epochs to train for\n",
    "num_epochs = 3#15\n",
    "\n",
    "# Flag for feature extracting. When False, we finetune the whole model,\n",
    "#   when True we only update the reshaped layer params\n",
    "feature_extract = True\n",
    "\n",
    "# Use ~1/10 of the dataset\n",
    "small_dataset = True\n",
    "\n",
    "# parameters specific to active learning\n",
    "active_learning_batch_size = 16\n",
    "initial_train_data_fraction = 0.05\n",
    "# QUERY_FUNCTION = categorical_query_functions.MIN_MAX\n",
    "QUERY_FUNCTION = categorical_query_functions.MIN_MARGIN\n",
    "# QUERY_FUNCTION = categorical_query_functions.MAX_ENTROPY\n",
    "\n",
    "# Flag for whether to print train loss and accuracy after each epoch.\n",
    "train_verbose = True"
   ]
  },
  {
   "cell_type": "markdown",
   "metadata": {},
   "source": [
    "# Load data"
   ]
  },
  {
   "cell_type": "code",
   "execution_count": 3,
   "metadata": {},
   "outputs": [],
   "source": [
    "x_data,y_data = get_kaggle_satellite_image_classification_dataset_as_numpy_arrays()\n",
    "order = np.random.permutation(len(x_data))\n",
    "x_data, y_data = x_data[order], y_data[order]"
   ]
  },
  {
   "cell_type": "markdown",
   "metadata": {},
   "source": [
    "# Initialize model"
   ]
  },
  {
   "cell_type": "code",
   "execution_count": 4,
   "metadata": {},
   "outputs": [
    {
     "name": "stdout",
     "output_type": "stream",
     "text": [
      "Sequential(\n",
      "  (0): Dropout(p=0.5, inplace=False)\n",
      "  (1): Conv2d(512, 4, kernel_size=(1, 1), stride=(1, 1))\n",
      "  (2): ReLU(inplace=True)\n",
      "  (3): AdaptiveAvgPool2d(output_size=(1, 1))\n",
      ")\n"
     ]
    }
   ],
   "source": [
    "# Initialize the model for this run\n",
    "model_ft, input_size = initialize_model(model_name, num_classes, feature_extract, use_pretrained=True)\n",
    "\n",
    "# Print the model we just instantiated\n",
    "print(model_ft.classifier)"
   ]
  },
  {
   "cell_type": "code",
   "execution_count": 5,
   "metadata": {},
   "outputs": [],
   "source": [
    "device = torch.device(\"cuda:0\" if torch.cuda.is_available() else \"cpu\")"
   ]
  },
  {
   "cell_type": "code",
   "execution_count": 6,
   "metadata": {},
   "outputs": [],
   "source": [
    "class ActiveLearningModel(ModelInterface):\n",
    "    def __init__(self,model,name=\"no name provided\",details=\"no details provided\"):\n",
    "        model.to(device)\n",
    "        self.model = model\n",
    "        self._name = name\n",
    "        self._details = details\n",
    "        # Gather the parameters to be optimized/updated in this run. If we are\n",
    "        #  finetuning we will be updating all parameters. However, if we are\n",
    "        #  doing feature extract method, we will only update the parameters\n",
    "        #  that we have just initialized, i.e. the parameters with requires_grad\n",
    "        #  is True.\n",
    "        params_to_update = model.parameters()\n",
    "        verbose = False\n",
    "        if verbose:\n",
    "            print(\"Params to learn:\")\n",
    "        if feature_extract:\n",
    "            params_to_update = []\n",
    "            for name,param in model.named_parameters():\n",
    "                if param.requires_grad == True:\n",
    "                    params_to_update.append(param)\n",
    "                    if verbose:\n",
    "                        print(\"\\t\",name)\n",
    "        elif verbose:\n",
    "            for name,param in model.named_parameters():\n",
    "                if param.requires_grad == True:\n",
    "                    print(\"\\t\",name)\n",
    "\n",
    "        # Observe that all parameters are being optimized\n",
    "        optimizer_ft = optim.SGD(params_to_update, lr=0.001, momentum=0.9)\n",
    "        self._optimizer = optimizer_ft\n",
    "        \n",
    "        # store criterion\n",
    "        self._criterion = nn.CrossEntropyLoss()\n",
    "\n",
    "    def name(self) -> str:\n",
    "        return self._name\n",
    "    def details(self) -> str:\n",
    "        return self._details\n",
    "    def train(self, train_x:np.ndarray, train_y:np.ndarray) -> None:\n",
    "        self.model = train_model_given_numpy_arrays(self.model, train_x, train_y, self._criterion, self._optimizer, num_epochs, batch_size, verbose=train_verbose)\n",
    "    def predict(self, test_x:np.ndarray):\n",
    "        self.model.eval()\n",
    "        x_tensor = torch.tensor(test_x)\n",
    "        dataset = TensorDataset(x_tensor)\n",
    "        dataloader = DataLoader(dataset,batch_size=batch_size,num_workers=0,shuffle=True)\n",
    "        preds_list = []\n",
    "        for (inputs,) in dataloader:\n",
    "            inputs = inputs.to(device)\n",
    "            preds_list.append(self.model(inputs).cpu().detach().numpy())\n",
    "        return np.vstack(preds_list)\n",
    "    def query(self, unlabeled_data:np.ndarray, labeling_batch_size:int) -> np.ndarray:\n",
    "        softmax = lambda x: np.exp(x)/np.sum(np.exp(x),axis=-1,keepdims=True)\n",
    "        softmax_outputs = softmax(self.predict(unlabeled_data))\n",
    "        indices = QUERY_FUNCTION(softmax_outputs,labeling_batch_size)\n",
    "        return indices"
   ]
  },
  {
   "cell_type": "code",
   "execution_count": 7,
   "metadata": {},
   "outputs": [],
   "source": [
    "y_data_onehot = np.zeros((y_data.size, y_data.max()+1))\n",
    "y_data_onehot[np.arange(y_data.size),y_data] = 1"
   ]
  },
  {
   "cell_type": "code",
   "execution_count": 8,
   "metadata": {},
   "outputs": [],
   "source": [
    "if small_dataset:\n",
    "    tester = Tester(x_data[:600],y_data_onehot[:600])\n",
    "else:\n",
    "    tester = Tester(x_data,y_data_onehot)\n",
    "tester.TRAINING_EPOCHS = num_epochs\n",
    "tester.ACTIVE_LEARNING_BATCH_SIZE = active_learning_batch_size\n",
    "tester.INITIAL_TRAIN_DATA_FRACTION = initial_train_data_fraction"
   ]
  },
  {
   "cell_type": "code",
   "execution_count": 9,
   "metadata": {},
   "outputs": [],
   "source": [
    "active_learning_model = ActiveLearningModel(model_ft,model_name,str(model_ft.classifier))"
   ]
  },
  {
   "cell_type": "code",
   "execution_count": 10,
   "metadata": {},
   "outputs": [
    {
     "name": "stderr",
     "output_type": "stream",
     "text": [
      "Test 0, Training Epoch 0:   0%|          | 0/10 [00:00<?, ?it/s]"
     ]
    },
    {
     "name": "stdout",
     "output_type": "stream",
     "text": [
      "Epoch 0/2\n",
      "----------\n"
     ]
    },
    {
     "name": "stderr",
     "output_type": "stream",
     "text": [
      "Test 0, Training Epoch 1:   0%|          | 0/10 [00:04<?, ?it/s]"
     ]
    },
    {
     "name": "stdout",
     "output_type": "stream",
     "text": [
      "Train Loss: 1.4262 Acc: 0.1111\n",
      "Epoch 1/2\n",
      "----------\n",
      "Train Loss: 1.1763 Acc: 0.3704\n",
      "Epoch 2/2\n",
      "----------\n",
      "Train Loss: 0.9982 Acc: 0.6667\n",
      "\n",
      "Training complete in 0m 5s\n",
      "Epoch 0/2\n",
      "----------\n",
      "Train Loss: 0.8101 Acc: 0.6296\n",
      "Epoch 1/2\n",
      "----------\n"
     ]
    },
    {
     "name": "stderr",
     "output_type": "stream",
     "text": [
      "Test 0, Training Epoch 2:   0%|          | 0/10 [00:04<?, ?it/s]"
     ]
    },
    {
     "name": "stdout",
     "output_type": "stream",
     "text": [
      "Train Loss: 0.7606 Acc: 0.6667\n",
      "Epoch 2/2\n",
      "----------\n",
      "Train Loss: 0.7307 Acc: 0.7037\n",
      "\n",
      "Training complete in 0m 0s\n",
      "Epoch 0/2\n",
      "----------\n",
      "Train Loss: 0.7544 Acc: 0.6296\n",
      "Epoch 1/2\n",
      "----------\n",
      "Train Loss: 0.6271 Acc: 0.8519\n",
      "Epoch 2/2\n",
      "----------\n",
      "Train Loss: 0.6689 Acc: 0.6667\n",
      "\n",
      "Training complete in 0m 0s\n"
     ]
    },
    {
     "name": "stderr",
     "output_type": "stream",
     "text": [
      "Test 0, Training Epoch 1:  10%|█         | 1/10 [00:05<00:50,  5.57s/it]"
     ]
    },
    {
     "name": "stdout",
     "output_type": "stream",
     "text": [
      "Epoch 0/2\n",
      "----------\n",
      "Train Loss: 0.7370 Acc: 0.7674\n",
      "Epoch 1/2\n",
      "----------\n",
      "Train Loss: 0.6242 Acc: 0.7907\n",
      "Epoch 2/2\n",
      "----------\n",
      "Train Loss: 0.5731 Acc: 0.7907\n",
      "\n",
      "Training complete in 0m 0s\n",
      "Epoch 0/2\n",
      "----------\n",
      "Train Loss: 0.5372 Acc: 0.8372\n",
      "Epoch 1/2\n",
      "----------\n",
      "Train Loss: 0.5007 Acc: 0.8140\n",
      "Epoch 2/2\n",
      "----------\n"
     ]
    },
    {
     "name": "stderr",
     "output_type": "stream",
     "text": [
      "Test 0, Training Epoch 2:  10%|█         | 1/10 [00:05<00:50,  5.57s/it]"
     ]
    },
    {
     "name": "stdout",
     "output_type": "stream",
     "text": [
      "Train Loss: 0.4693 Acc: 0.8372\n",
      "\n",
      "Training complete in 0m 0s\n",
      "Epoch 0/2\n",
      "----------\n",
      "Train Loss: 0.4100 Acc: 0.8372\n",
      "Epoch 1/2\n",
      "----------\n",
      "Train Loss: 0.3665 Acc: 0.8837\n",
      "Epoch 2/2\n",
      "----------\n",
      "Train Loss: 0.3458 Acc: 0.9302\n",
      "\n",
      "Training complete in 0m 0s\n"
     ]
    },
    {
     "name": "stderr",
     "output_type": "stream",
     "text": [
      "Test 0, Training Epoch 1:  20%|██        | 2/10 [00:06<00:23,  2.90s/it]"
     ]
    },
    {
     "name": "stdout",
     "output_type": "stream",
     "text": [
      "Epoch 0/2\n",
      "----------\n",
      "Train Loss: 0.3732 Acc: 0.8644\n",
      "Epoch 1/2\n",
      "----------\n",
      "Train Loss: 0.3231 Acc: 0.8475\n",
      "Epoch 2/2\n",
      "----------\n",
      "Train Loss: 0.2680 Acc: 0.9153\n",
      "\n",
      "Training complete in 0m 0s\n",
      "Epoch 0/2\n",
      "----------\n"
     ]
    },
    {
     "name": "stderr",
     "output_type": "stream",
     "text": [
      "Test 0, Training Epoch 2:  20%|██        | 2/10 [00:06<00:23,  2.90s/it]"
     ]
    },
    {
     "name": "stdout",
     "output_type": "stream",
     "text": [
      "Train Loss: 0.2395 Acc: 0.8814\n",
      "Epoch 1/2\n",
      "----------\n",
      "Train Loss: 0.2208 Acc: 0.9322\n",
      "Epoch 2/2\n",
      "----------\n",
      "Train Loss: 0.2257 Acc: 0.9322\n",
      "\n",
      "Training complete in 0m 0s\n",
      "Epoch 0/2\n",
      "----------\n",
      "Train Loss: 0.2128 Acc: 0.9322\n",
      "Epoch 1/2\n",
      "----------\n",
      "Train Loss: 0.2063 Acc: 0.9492\n",
      "Epoch 2/2\n",
      "----------\n",
      "Train Loss: 0.2045 Acc: 0.9153\n",
      "\n",
      "Training complete in 0m 0s\n"
     ]
    },
    {
     "name": "stderr",
     "output_type": "stream",
     "text": [
      "Test 0, Training Epoch 0:  30%|███       | 3/10 [00:07<00:14,  2.09s/it]"
     ]
    },
    {
     "name": "stdout",
     "output_type": "stream",
     "text": [
      "Epoch 0/2\n",
      "----------\n",
      "Train Loss: 0.2635 Acc: 0.8800\n",
      "Epoch 1/2\n",
      "----------\n",
      "Train Loss: 0.2421 Acc: 0.9200\n",
      "Epoch 2/2\n",
      "----------\n"
     ]
    },
    {
     "name": "stderr",
     "output_type": "stream",
     "text": [
      "Test 0, Training Epoch 1:  30%|███       | 3/10 [00:07<00:14,  2.09s/it]"
     ]
    },
    {
     "name": "stdout",
     "output_type": "stream",
     "text": [
      "Train Loss: 0.2056 Acc: 0.9333\n",
      "\n",
      "Training complete in 0m 0s\n",
      "Epoch 0/2\n",
      "----------\n",
      "Train Loss: 0.2422 Acc: 0.9200\n",
      "Epoch 1/2\n",
      "----------\n",
      "Train Loss: 0.2291 Acc: 0.9467\n",
      "Epoch 2/2\n",
      "----------\n"
     ]
    },
    {
     "name": "stderr",
     "output_type": "stream",
     "text": [
      "Test 0, Training Epoch 2:  30%|███       | 3/10 [00:08<00:14,  2.09s/it]"
     ]
    },
    {
     "name": "stdout",
     "output_type": "stream",
     "text": [
      "Train Loss: 0.1792 Acc: 0.9600\n",
      "\n",
      "Training complete in 0m 0s\n",
      "Epoch 0/2\n",
      "----------\n",
      "Train Loss: 0.2051 Acc: 0.9067\n",
      "Epoch 1/2\n",
      "----------\n",
      "Train Loss: 0.1894 Acc: 0.9333\n",
      "Epoch 2/2\n",
      "----------\n",
      "Train Loss: 0.1753 Acc: 0.9600\n",
      "\n",
      "Training complete in 0m 0s\n"
     ]
    },
    {
     "name": "stderr",
     "output_type": "stream",
     "text": [
      "Test 0, Training Epoch 0:  40%|████      | 4/10 [00:08<00:10,  1.76s/it]"
     ]
    },
    {
     "name": "stdout",
     "output_type": "stream",
     "text": [
      "Epoch 0/2\n",
      "----------\n",
      "Train Loss: 0.1615 Acc: 0.9670\n",
      "Epoch 1/2\n",
      "----------\n",
      "Train Loss: 0.2123 Acc: 0.9121\n",
      "Epoch 2/2\n",
      "----------\n"
     ]
    },
    {
     "name": "stderr",
     "output_type": "stream",
     "text": [
      "Test 0, Training Epoch 1:  40%|████      | 4/10 [00:09<00:10,  1.76s/it]"
     ]
    },
    {
     "name": "stdout",
     "output_type": "stream",
     "text": [
      "Train Loss: 0.1637 Acc: 0.9341\n",
      "\n",
      "Training complete in 0m 0s\n",
      "Epoch 0/2\n",
      "----------\n",
      "Train Loss: 0.1742 Acc: 0.9670\n",
      "Epoch 1/2\n",
      "----------\n",
      "Train Loss: 0.1562 Acc: 0.9670\n",
      "Epoch 2/2\n",
      "----------\n"
     ]
    },
    {
     "name": "stderr",
     "output_type": "stream",
     "text": [
      "Test 0, Training Epoch 2:  40%|████      | 4/10 [00:09<00:10,  1.76s/it]"
     ]
    },
    {
     "name": "stdout",
     "output_type": "stream",
     "text": [
      "Train Loss: 0.1681 Acc: 0.9451\n",
      "\n",
      "Training complete in 0m 0s\n",
      "Epoch 0/2\n",
      "----------\n",
      "Train Loss: 0.1770 Acc: 0.9341\n",
      "Epoch 1/2\n",
      "----------\n",
      "Train Loss: 0.1675 Acc: 0.9341\n",
      "Epoch 2/2\n",
      "----------\n",
      "Train Loss: 0.1670 Acc: 0.9451\n",
      "\n",
      "Training complete in 0m 0s\n"
     ]
    },
    {
     "name": "stderr",
     "output_type": "stream",
     "text": [
      "Test 0, Training Epoch 0:  50%|█████     | 5/10 [00:10<00:08,  1.63s/it]"
     ]
    },
    {
     "name": "stdout",
     "output_type": "stream",
     "text": [
      "Epoch 0/2\n",
      "----------\n",
      "Train Loss: 0.1407 Acc: 0.9533\n",
      "Epoch 1/2\n",
      "----------\n",
      "Train Loss: 0.1628 Acc: 0.9626\n",
      "Epoch 2/2\n",
      "----------\n"
     ]
    },
    {
     "name": "stderr",
     "output_type": "stream",
     "text": [
      "Test 0, Training Epoch 1:  50%|█████     | 5/10 [00:10<00:08,  1.63s/it]"
     ]
    },
    {
     "name": "stdout",
     "output_type": "stream",
     "text": [
      "Train Loss: 0.1670 Acc: 0.9346\n",
      "\n",
      "Training complete in 0m 0s\n",
      "Epoch 0/2\n",
      "----------\n",
      "Train Loss: 0.1314 Acc: 0.9720\n",
      "Epoch 1/2\n",
      "----------\n"
     ]
    },
    {
     "name": "stderr",
     "output_type": "stream",
     "text": [
      "Test 0, Training Epoch 2:  50%|█████     | 5/10 [00:10<00:08,  1.63s/it]"
     ]
    },
    {
     "name": "stdout",
     "output_type": "stream",
     "text": [
      "Train Loss: 0.1407 Acc: 0.9720\n",
      "Epoch 2/2\n",
      "----------\n",
      "Train Loss: 0.1654 Acc: 0.9439\n",
      "\n",
      "Training complete in 0m 0s\n",
      "Epoch 0/2\n",
      "----------\n",
      "Train Loss: 0.1530 Acc: 0.9439\n",
      "Epoch 1/2\n",
      "----------\n",
      "Train Loss: 0.1488 Acc: 0.9439\n",
      "Epoch 2/2\n",
      "----------\n",
      "Train Loss: 0.1251 Acc: 0.9813\n",
      "\n",
      "Training complete in 0m 0s\n"
     ]
    },
    {
     "name": "stderr",
     "output_type": "stream",
     "text": [
      "Test 0, Training Epoch 0:  60%|██████    | 6/10 [00:11<00:06,  1.60s/it]"
     ]
    },
    {
     "name": "stdout",
     "output_type": "stream",
     "text": [
      "Epoch 0/2\n",
      "----------\n",
      "Train Loss: 0.1364 Acc: 0.9512\n",
      "Epoch 1/2\n",
      "----------\n"
     ]
    },
    {
     "name": "stderr",
     "output_type": "stream",
     "text": [
      "Test 0, Training Epoch 1:  60%|██████    | 6/10 [00:12<00:06,  1.60s/it]"
     ]
    },
    {
     "name": "stdout",
     "output_type": "stream",
     "text": [
      "Train Loss: 0.1470 Acc: 0.9512\n",
      "Epoch 2/2\n",
      "----------\n",
      "Train Loss: 0.1311 Acc: 0.9675\n",
      "\n",
      "Training complete in 0m 0s\n",
      "Epoch 0/2\n",
      "----------\n",
      "Train Loss: 0.1314 Acc: 0.9512\n",
      "Epoch 1/2\n",
      "----------\n",
      "Train Loss: 0.1604 Acc: 0.9431\n",
      "Epoch 2/2\n",
      "----------\n"
     ]
    },
    {
     "name": "stderr",
     "output_type": "stream",
     "text": [
      "Test 0, Training Epoch 2:  60%|██████    | 6/10 [00:12<00:06,  1.60s/it]"
     ]
    },
    {
     "name": "stdout",
     "output_type": "stream",
     "text": [
      "Train Loss: 0.1300 Acc: 0.9675\n",
      "\n",
      "Training complete in 0m 0s\n",
      "Epoch 0/2\n",
      "----------\n",
      "Train Loss: 0.1123 Acc: 0.9756\n",
      "Epoch 1/2\n",
      "----------\n",
      "Train Loss: 0.1215 Acc: 0.9593\n",
      "Epoch 2/2\n",
      "----------\n",
      "Train Loss: 0.0864 Acc: 0.9919\n",
      "\n",
      "Training complete in 0m 0s\n"
     ]
    },
    {
     "name": "stderr",
     "output_type": "stream",
     "text": [
      "Test 0, Training Epoch 0:  70%|███████   | 7/10 [00:13<00:04,  1.61s/it]"
     ]
    },
    {
     "name": "stdout",
     "output_type": "stream",
     "text": [
      "Epoch 0/2\n",
      "----------\n",
      "Train Loss: 0.1386 Acc: 0.9496\n",
      "Epoch 1/2\n",
      "----------\n"
     ]
    },
    {
     "name": "stderr",
     "output_type": "stream",
     "text": [
      "Test 0, Training Epoch 1:  70%|███████   | 7/10 [00:13<00:04,  1.61s/it]"
     ]
    },
    {
     "name": "stdout",
     "output_type": "stream",
     "text": [
      "Train Loss: 0.1184 Acc: 0.9712\n",
      "Epoch 2/2\n",
      "----------\n",
      "Train Loss: 0.1365 Acc: 0.9496\n",
      "\n",
      "Training complete in 0m 0s\n",
      "Epoch 0/2\n",
      "----------\n",
      "Train Loss: 0.1268 Acc: 0.9640\n",
      "Epoch 1/2\n",
      "----------\n",
      "Train Loss: 0.1150 Acc: 0.9712\n",
      "Epoch 2/2\n",
      "----------\n"
     ]
    },
    {
     "name": "stderr",
     "output_type": "stream",
     "text": [
      "Test 0, Training Epoch 2:  70%|███████   | 7/10 [00:14<00:04,  1.61s/it]"
     ]
    },
    {
     "name": "stdout",
     "output_type": "stream",
     "text": [
      "Train Loss: 0.1186 Acc: 0.9640\n",
      "\n",
      "Training complete in 0m 0s\n",
      "Epoch 0/2\n",
      "----------\n",
      "Train Loss: 0.1152 Acc: 0.9712\n",
      "Epoch 1/2\n",
      "----------\n",
      "Train Loss: 0.1033 Acc: 0.9784\n",
      "Epoch 2/2\n",
      "----------\n",
      "Train Loss: 0.1240 Acc: 0.9712\n",
      "\n",
      "Training complete in 0m 0s\n"
     ]
    },
    {
     "name": "stderr",
     "output_type": "stream",
     "text": [
      "Test 0, Training Epoch 0:  80%|████████  | 8/10 [00:15<00:03,  1.67s/it]"
     ]
    },
    {
     "name": "stdout",
     "output_type": "stream",
     "text": [
      "Epoch 0/2\n",
      "----------\n",
      "Train Loss: 0.1191 Acc: 0.9613\n",
      "Epoch 1/2\n",
      "----------\n"
     ]
    },
    {
     "name": "stderr",
     "output_type": "stream",
     "text": [
      "Test 0, Training Epoch 1:  80%|████████  | 8/10 [00:15<00:03,  1.67s/it]"
     ]
    },
    {
     "name": "stdout",
     "output_type": "stream",
     "text": [
      "Train Loss: 0.1119 Acc: 0.9677\n",
      "Epoch 2/2\n",
      "----------\n",
      "Train Loss: 0.0956 Acc: 0.9742\n",
      "\n",
      "Training complete in 0m 0s\n",
      "Epoch 0/2\n",
      "----------\n",
      "Train Loss: 0.1033 Acc: 0.9613\n",
      "Epoch 1/2\n",
      "----------\n",
      "Train Loss: 0.0869 Acc: 0.9806\n",
      "Epoch 2/2\n",
      "----------\n"
     ]
    },
    {
     "name": "stderr",
     "output_type": "stream",
     "text": [
      "Test 0, Training Epoch 2:  80%|████████  | 8/10 [00:16<00:03,  1.67s/it]"
     ]
    },
    {
     "name": "stdout",
     "output_type": "stream",
     "text": [
      "Train Loss: 0.1027 Acc: 0.9742\n",
      "\n",
      "Training complete in 0m 0s\n",
      "Epoch 0/2\n",
      "----------\n",
      "Train Loss: 0.0995 Acc: 0.9742\n",
      "Epoch 1/2\n",
      "----------\n",
      "Train Loss: 0.1046 Acc: 0.9742\n",
      "Epoch 2/2\n",
      "----------\n",
      "Train Loss: 0.0790 Acc: 0.9871\n",
      "\n",
      "Training complete in 0m 0s\n"
     ]
    },
    {
     "name": "stderr",
     "output_type": "stream",
     "text": [
      "Test 0, Training Epoch 0:  90%|█████████ | 9/10 [00:17<00:01,  1.75s/it]"
     ]
    },
    {
     "name": "stdout",
     "output_type": "stream",
     "text": [
      "Epoch 0/2\n",
      "----------\n",
      "Train Loss: 0.1006 Acc: 0.9766\n",
      "Epoch 1/2\n",
      "----------\n"
     ]
    },
    {
     "name": "stderr",
     "output_type": "stream",
     "text": [
      "Test 0, Training Epoch 1:  90%|█████████ | 9/10 [00:17<00:01,  1.75s/it]"
     ]
    },
    {
     "name": "stdout",
     "output_type": "stream",
     "text": [
      "Train Loss: 0.1073 Acc: 0.9649\n",
      "Epoch 2/2\n",
      "----------\n",
      "Train Loss: 0.1235 Acc: 0.9532\n",
      "\n",
      "Training complete in 0m 0s\n",
      "Epoch 0/2\n",
      "----------\n",
      "Train Loss: 0.1027 Acc: 0.9649\n",
      "Epoch 1/2\n",
      "----------\n",
      "Train Loss: 0.0889 Acc: 0.9766\n",
      "Epoch 2/2\n",
      "----------\n"
     ]
    },
    {
     "name": "stderr",
     "output_type": "stream",
     "text": [
      "Test 0, Training Epoch 2:  90%|█████████ | 9/10 [00:18<00:01,  1.75s/it]"
     ]
    },
    {
     "name": "stdout",
     "output_type": "stream",
     "text": [
      "Train Loss: 0.1013 Acc: 0.9591\n",
      "\n",
      "Training complete in 0m 0s\n",
      "Epoch 0/2\n",
      "----------\n",
      "Train Loss: 0.0813 Acc: 0.9825\n",
      "Epoch 1/2\n",
      "----------\n",
      "Train Loss: 0.1005 Acc: 0.9708\n",
      "Epoch 2/2\n",
      "----------\n",
      "Train Loss: 0.0944 Acc: 0.9766\n",
      "\n",
      "Training complete in 0m 0s\n"
     ]
    },
    {
     "name": "stderr",
     "output_type": "stream",
     "text": [
      "Test 0, Training Epoch 2: 100%|██████████| 10/10 [00:19<00:00,  1.93s/it]\n"
     ]
    }
   ],
   "source": [
    "tester.test_model(active_learning_model)"
   ]
  },
  {
   "cell_type": "code",
   "execution_count": 11,
   "metadata": {},
   "outputs": [
    {
     "data": {
      "image/png": "[encoded data removed]",
      "text/plain": [
       "<Figure size 720x576 with 4 Axes>"
      ]
     },
     "metadata": {
      "needs_background": "light"
     },
     "output_type": "display_data"
    }
   ],
   "source": [
    "tester.plot_results()"
   ]
  },
  {
   "cell_type": "code",
   "execution_count": null,
   "metadata": {},
   "outputs": [],
   "source": []
  }
 ],
 "metadata": {
  "interpreter": {
   "hash": "572989d3e5e970065861bb6fc65bf74562091858dbe06814b9896f38cf561588"
  },
  "kernelspec": {
   "display_name": "Python 3.9.7 64-bit ('cs229proj': conda)",
   "name": "python3"
  },
  "language_info": {
   "codemirror_mode": {
    "name": "ipython",
    "version": 3
   },
   "file_extension": ".py",
   "mimetype": "text/x-python",
   "name": "python",
   "nbconvert_exporter": "python",
   "pygments_lexer": "ipython3",
   "version": "3.9.7"
  },
  "orig_nbformat": 4
 },
 "nbformat": 4,
 "nbformat_minor": 2
}
