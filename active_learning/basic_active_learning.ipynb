{
 "cells": [
  {
   "cell_type": "code",
   "execution_count": 1,
   "metadata": {},
   "outputs": [
    {
     "name": "stdout",
     "output_type": "stream",
     "text": [
      "PyTorch Version:  1.10.0\n",
      "Torchvision Version:  0.11.1\n"
     ]
    }
   ],
   "source": [
    "# Adapted from https://pytorch.org/tutorials/beginner/finetuning_torchvision_models_tutorial.html\n",
    "# for kaggle satellite image classification dataset https://www.kaggle.com/mahmoudreda55/satellite-image-classification\n",
    "# and then basic active learning was applied.\n",
    "\n",
    "from __future__ import print_function\n",
    "from __future__ import division\n",
    "import torch\n",
    "import torch.nn as nn\n",
    "import torch.optim as optim\n",
    "import numpy as np\n",
    "import torchvision\n",
    "from torchvision import datasets, models, transforms\n",
    "import matplotlib.pyplot as plt\n",
    "from pytorch_finetuning_utils import train_model, train_model_given_numpy_arrays, initialize_model\n",
    "print(\"PyTorch Version: \",torch.__version__)\n",
    "print(\"Torchvision Version: \",torchvision.__version__)\n",
    "import sys\n",
    "sys.path.append(\"..\")\n",
    "# sys.path.insert(0, '..')\n",
    "from test_framework.model_interface import ModelInterface\n",
    "from test_framework.tester import Tester\n",
    "from utils.data_utils import get_kaggle_satellite_image_classification_dataset_as_numpy_arrays\n",
    "\n",
    "%matplotlib inline"
   ]
  },
  {
   "cell_type": "markdown",
   "metadata": {},
   "source": [
    "# parameters"
   ]
  },
  {
   "cell_type": "code",
   "execution_count": 2,
   "metadata": {},
   "outputs": [],
   "source": [
    "# Top level data directory. Here we assume the format of the directory conforms\n",
    "#   to the ImageFolder structure\n",
    "data_dir = \"../data/kaggle_satellite_image_classification\"\n",
    "\n",
    "# Models to choose from [resnet, alexnet, vgg, squeezenet, densenet]\n",
    "model_name = \"squeezenet\"\n",
    "\n",
    "# Number of classes in the dataset\n",
    "num_classes = 4\n",
    "\n",
    "# Batch size for training (change depending on how much memory you have)\n",
    "batch_size = 8\n",
    "\n",
    "# Number of epochs to train for\n",
    "num_epochs = 1#15\n",
    "\n",
    "# Flag for feature extracting. When False, we finetune the whole model,\n",
    "#   when True we only update the reshaped layer params\n",
    "feature_extract = True\n"
   ]
  },
  {
   "cell_type": "markdown",
   "metadata": {},
   "source": [
    "# Load data"
   ]
  },
  {
   "cell_type": "code",
   "execution_count": 3,
   "metadata": {},
   "outputs": [],
   "source": [
    "x_data,y_data = get_kaggle_satellite_image_classification_dataset_as_numpy_arrays()"
   ]
  },
  {
   "cell_type": "markdown",
   "metadata": {},
   "source": [
    "# Initialize model"
   ]
  },
  {
   "cell_type": "code",
   "execution_count": 4,
   "metadata": {},
   "outputs": [
    {
     "name": "stdout",
     "output_type": "stream",
     "text": [
      "Sequential(\n",
      "  (0): Dropout(p=0.5, inplace=False)\n",
      "  (1): Conv2d(512, 4, kernel_size=(1, 1), stride=(1, 1))\n",
      "  (2): ReLU(inplace=True)\n",
      "  (3): AdaptiveAvgPool2d(output_size=(1, 1))\n",
      ")\n"
     ]
    }
   ],
   "source": [
    "# Initialize the model for this run\n",
    "model_ft, input_size = initialize_model(model_name, num_classes, feature_extract, use_pretrained=True)\n",
    "\n",
    "# Print the model we just instantiated\n",
    "print(model_ft.classifier)"
   ]
  },
  {
   "cell_type": "code",
   "execution_count": 5,
   "metadata": {},
   "outputs": [],
   "source": [
    "device = torch.device(\"cuda:0\" if torch.cuda.is_available() else \"cpu\")"
   ]
  },
  {
   "cell_type": "code",
   "execution_count": 6,
   "metadata": {},
   "outputs": [],
   "source": [
    "class ActiveLearningModel(ModelInterface):\n",
    "    def __init__(self,model,name=\"no name provided\",details=\"no details provided\"):\n",
    "        model.to(device)\n",
    "        self.model = model\n",
    "        self._name = name\n",
    "        self._details = details\n",
    "        # Gather the parameters to be optimized/updated in this run. If we are\n",
    "        #  finetuning we will be updating all parameters. However, if we are\n",
    "        #  doing feature extract method, we will only update the parameters\n",
    "        #  that we have just initialized, i.e. the parameters with requires_grad\n",
    "        #  is True.\n",
    "        params_to_update = model.parameters()\n",
    "        verbose = False\n",
    "        if verbose:\n",
    "            print(\"Params to learn:\")\n",
    "        if feature_extract:\n",
    "            params_to_update = []\n",
    "            for name,param in model.named_parameters():\n",
    "                if param.requires_grad == True:\n",
    "                    params_to_update.append(param)\n",
    "                    if verbose:\n",
    "                        print(\"\\t\",name)\n",
    "        elif verbose:\n",
    "            for name,param in model.named_parameters():\n",
    "                if param.requires_grad == True:\n",
    "                    print(\"\\t\",name)\n",
    "\n",
    "        # Observe that all parameters are being optimized\n",
    "        optimizer_ft = optim.SGD(params_to_update, lr=0.001, momentum=0.9)\n",
    "        self._optimizer = optimizer_ft\n",
    "        \n",
    "        # store criterion\n",
    "        self._criterion = nn.CrossEntropyLoss()\n",
    "\n",
    "    def name(self) -> str:\n",
    "        return self._name\n",
    "    def details(self) -> str:\n",
    "        return self._details\n",
    "    def train(self, train_x:np.ndarray, train_y:np.ndarray) -> None:\n",
    "        self.model = train_model_given_numpy_arrays(self.model, train_x, train_y, self._criterion, self._optimizer, num_epochs, batch_size, verbose=False)\n",
    "    def predict(self, test_x, output_tensors=False):\n",
    "        if output_tensors:\n",
    "            return self.model(torch.tensor(test_x).to(device))\n",
    "        else:\n",
    "            return self.model(torch.tensor(test_x).to(device)).cpu().detach().numpy()\n",
    "    def query(self, unlabeled_data:np.ndarray, labeling_batch_size:int) -> np.ndarray:\n",
    "        self.model.eval()\n",
    "        softmax = nn.Softmax(dim=1)\n",
    "        softmax_outputs = softmax(self.predict(unlabeled_data,output_tensors=True))\n",
    "        max_softmax_vals, _ = torch.max(softmax_outputs, 1)\n",
    "        max_softmax_vals_array = max_softmax_vals.cpu().detach().numpy()\n",
    "        least_confident_indices = np.argpartition(max_softmax_vals_array,labeling_batch_size)[:labeling_batch_size]\n",
    "        return least_confident_indices"
   ]
  },
  {
   "cell_type": "code",
   "execution_count": 7,
   "metadata": {},
   "outputs": [],
   "source": [
    "y_data_onehot = np.zeros((y_data.size, y_data.max()+1))\n",
    "y_data_onehot[np.arange(y_data.size),y_data] = 1"
   ]
  },
  {
   "cell_type": "code",
   "execution_count": 8,
   "metadata": {},
   "outputs": [],
   "source": [
    "tester = Tester(x_data[:600],y_data_onehot[:600])\n",
    "tester.TRAINING_EPOCHS = 2\n",
    "tester.ACTIVE_LEARNING_BATCH_SIZE = 8"
   ]
  },
  {
   "cell_type": "code",
   "execution_count": 9,
   "metadata": {},
   "outputs": [],
   "source": [
    "active_learning_model = ActiveLearningModel(model_ft,model_name,str(model_ft.classifier))"
   ]
  },
  {
   "cell_type": "code",
   "execution_count": 10,
   "metadata": {},
   "outputs": [
    {
     "name": "stderr",
     "output_type": "stream",
     "text": [
      "Test 0, Training Epoch 1: 100%|██████████| 10/10 [00:15<00:00,  1.55s/it]\n"
     ]
    }
   ],
   "source": [
    "tester.test_model(active_learning_model)"
   ]
  },
  {
   "cell_type": "code",
   "execution_count": null,
   "metadata": {},
   "outputs": [],
   "source": [
    "tester.plot_results()"
   ]
  }
 ],
 "metadata": {
  "interpreter": {
   "hash": "572989d3e5e970065861bb6fc65bf74562091858dbe06814b9896f38cf561588"
  },
  "kernelspec": {
   "display_name": "Python 3.9.7 64-bit ('cs229proj': conda)",
   "name": "python3"
  },
  "language_info": {
   "codemirror_mode": {
    "name": "ipython",
    "version": 3
   },
   "file_extension": ".py",
   "mimetype": "text/x-python",
   "name": "python",
   "nbconvert_exporter": "python",
   "pygments_lexer": "ipython3",
   "version": "3.9.7"
  },
  "orig_nbformat": 4
 },
 "nbformat": 4,
 "nbformat_minor": 2
}
